{
  "cells": [
    {
      "cell_type": "markdown",
      "metadata": {
        "id": "view-in-github",
        "colab_type": "text"
      },
      "source": [
        "<a href=\"https://colab.research.google.com/github/RodriTrooCo9/algoritmos-y-ejercicios-desarrollados/blob/main/content/es/docencia/python/ejercicios/soluciones/pandas/ejercicio1.ipynb\" target=\"_parent\"><img src=\"https://colab.research.google.com/assets/colab-badge.svg\" alt=\"Open In Colab\"/></a>"
      ]
    },
    {
      "cell_type": "code",
      "execution_count": null,
      "metadata": {
        "id": "lndm7PJn0nzf"
      },
      "outputs": [],
      "source": [
        "import numpy as np\n",
        "import matplotlib.pyplot as plt\n",
        "from scipy.stats import chi2\n",
        "\n",
        "# --- Entrada de datos interactiva ---\n",
        "print(\"--- Ingresa los datos para la prueba de uniformidad ---\")\n",
        "\n",
        "# Pedir al usuario el número de intervalos\n",
        "try:\n",
        "    k = int(input(\"Ingresa el número de intervalos (clases): \"))\n",
        "    if k <= 1:\n",
        "        raise ValueError(\"El número de intervalos debe ser mayor que 1.\")\n",
        "except ValueError as e:\n",
        "    print(f\"Error: {e}. Por favor, reinicia el programa e ingresa un número válido.\")\n",
        "    exit()\n",
        "\n",
        "# Pedir al usuario las frecuencias observadas\n",
        "print(f\"Ingresa las {k} frecuencias observadas, separadas por espacios:\")\n",
        "try:\n",
        "    observed_freq_str = input().split()\n",
        "    if len(observed_freq_str) != k:\n",
        "        raise ValueError(\"El número de frecuencias ingresadas no coincide con el número de intervalos.\")\n",
        "\n",
        "    observed_freq = np.array([int(freq) for freq in observed_freq_str])\n",
        "    if np.any(observed_freq < 0):\n",
        "        raise ValueError(\"Las frecuencias no pueden ser números negativos.\")\n",
        "except ValueError as e:\n",
        "    print(f\"Error: {e}. Por favor, reinicia el programa e ingresa los datos correctamente.\")\n",
        "    exit()\n",
        "\n",
        "# --- Cálculo de la estadística Chi-Cuadrado ---\n",
        "# Tamaño total de la muestra (n)\n",
        "n = np.sum(observed_freq)\n",
        "\n",
        "if n == 0:\n",
        "    print(\"Error: La suma de las frecuencias observadas es cero. No se puede realizar el cálculo.\")\n",
        "    exit()\n",
        "\n",
        "# Frecuencia esperada (Ei) para una distribución uniforme\n",
        "expected_freq = n / k\n",
        "expected_freq_array = np.full(k, expected_freq)\n",
        "\n",
        "# Fórmula: sum((Oi - Ei)^2 / Ei)\n",
        "chi2_statistic = np.sum((observed_freq - expected_freq_array)**2 / expected_freq_array)\n",
        "\n",
        "# --- Prueba de hipótesis y valor crítico ---\n",
        "# Nivel de significancia (alfa) del 5%\n",
        "alpha = 0.05\n",
        "\n",
        "# Grados de libertad (gl) = k - 1\n",
        "degrees_of_freedom = k - 1\n",
        "\n",
        "# Valor crítico de Chi-Cuadrado\n",
        "critical_value = chi2.ppf(1 - alpha, degrees_of_freedom)\n",
        "\n",
        "# --- Conclusión ---\n",
        "print(\"\\n--- Resultados de la Prueba de Uniformidad ---\")\n",
        "print(f\"Número total de observaciones (n): {n}\")\n",
        "print(f\"Frecuencia esperada (Ei): {expected_freq:.2f}\")\n",
        "print(f\"Estadística Chi-Cuadrado calculada: {chi2_statistic:.3f}\")\n",
        "print(f\"Grados de libertad: {degrees_of_freedom}\")\n",
        "print(f\"Valor crítico de Chi-Cuadrado (α={alpha}): {critical_value:.3f}\")\n",
        "\n",
        "print(\"\\n--- Conclusión ---\")\n",
        "if chi2_statistic < critical_value:\n",
        "    print(\"El valor calculado es menor que el valor crítico.\")\n",
        "    print(\"Se acepta la hipótesis nula ($H_0$). La muestra proviene de una distribución uniforme.\")\n",
        "else:\n",
        "    print(\"El valor calculado es mayor que el valor crítico.\")\n",
        "    print(\"Se rechaza la hipótesis nula ($H_0$). La muestra no proviene de una distribución uniforme.\")\n",
        "\n",
        "# --- Gráfica de comparación (Barras) ---\n",
        "plt.style.use('seaborn-v0_8-whitegrid')\n",
        "fig, ax = plt.subplots(figsize=(10, 6))\n",
        "\n",
        "x = np.arange(k)\n",
        "bar_width = 0.35\n",
        "\n",
        "ax.bar(x - bar_width/2, observed_freq, bar_width, label='Frecuencia Observada ($O_i$)', color='skyblue', edgecolor='black')\n",
        "ax.bar(x + bar_width/2, expected_freq_array, bar_width, label='Frecuencia Esperada ($E_i$)', color='salmon', edgecolor='black')\n",
        "\n",
        "ax.set_title('Comparación de Frecuencias: Prueba de Uniformidad', fontsize=16, fontweight='bold')\n",
        "ax.set_xlabel('Intervalo', fontsize=12)\n",
        "ax.set_ylabel('Frecuencia', fontsize=12)\n",
        "ax.set_xticks(x)\n",
        "ax.set_xticklabels([f'Int. {i+1}' for i in range(k)], rotation=45, ha='right')\n",
        "ax.legend()\n",
        "plt.tight_layout()\n",
        "plt.show()"
      ]
    },
    {
      "cell_type": "code",
      "execution_count": null,
      "metadata": {
        "id": "g4eO8Aj-0nzh"
      },
      "outputs": [],
      "source": []
    }
  ],
  "metadata": {
    "kernelspec": {
      "display_name": "Python 3",
      "language": "python",
      "name": "python3"
    },
    "language_info": {
      "codemirror_mode": {
        "name": "ipython",
        "version": 3
      },
      "file_extension": ".py",
      "mimetype": "text/x-python",
      "name": "python",
      "nbconvert_exporter": "python",
      "pygments_lexer": "ipython3",
      "version": "3.7.6-final"
    },
    "colab": {
      "provenance": [],
      "include_colab_link": true
    }
  },
  "nbformat": 4,
  "nbformat_minor": 0
}